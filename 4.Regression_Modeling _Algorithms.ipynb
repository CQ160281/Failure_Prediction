{
 "cells": [
  {
   "cell_type": "markdown",
   "id": "3c2f38c7",
   "metadata": {},
   "source": [
    "##  Task 1: Import libraries and packages"
   ]
  },
  {
   "cell_type": "code",
   "execution_count": 1,
   "id": "4990ebc5",
   "metadata": {},
   "outputs": [],
   "source": [
    "import pandas as pd\n",
    "import numpy as np\n",
    "\n",
    "\n",
    "import matplotlib.pyplot as plt\n",
    "plt.style.use('ggplot')\n",
    "%matplotlib inline  \n",
    "\n",
    "from sklearn import linear_model\n",
    "from sklearn.ensemble import RandomForestRegressor\n",
    "\n",
    "from sklearn import model_selection \n",
    "from sklearn.tree import DecisionTreeRegressor, DecisionTreeClassifier, export_graphviz\n",
    "from sklearn import metrics  \n",
    "from sklearn.feature_selection import SelectFromModel, RFECV"
   ]
  },
  {
   "cell_type": "markdown",
   "id": "1516387e",
   "metadata": {},
   "source": [
    "### Load Data"
   ]
  },
  {
   "cell_type": "code",
   "execution_count": 2,
   "id": "0541cd08",
   "metadata": {},
   "outputs": [
    {
     "data": {
      "text/html": [
       "<div>\n",
       "<style scoped>\n",
       "    .dataframe tbody tr th:only-of-type {\n",
       "        vertical-align: middle;\n",
       "    }\n",
       "\n",
       "    .dataframe tbody tr th {\n",
       "        vertical-align: top;\n",
       "    }\n",
       "\n",
       "    .dataframe thead th {\n",
       "        text-align: right;\n",
       "    }\n",
       "</style>\n",
       "<table border=\"1\" class=\"dataframe\">\n",
       "  <thead>\n",
       "    <tr style=\"text-align: right;\">\n",
       "      <th></th>\n",
       "      <th>id</th>\n",
       "      <th>cycle</th>\n",
       "      <th>setting1</th>\n",
       "      <th>setting2</th>\n",
       "      <th>setting3</th>\n",
       "      <th>s1</th>\n",
       "      <th>s2</th>\n",
       "      <th>s3</th>\n",
       "      <th>s4</th>\n",
       "      <th>s5</th>\n",
       "      <th>...</th>\n",
       "      <th>sd15</th>\n",
       "      <th>sd16</th>\n",
       "      <th>sd17</th>\n",
       "      <th>sd18</th>\n",
       "      <th>sd19</th>\n",
       "      <th>sd20</th>\n",
       "      <th>sd21</th>\n",
       "      <th>ttf</th>\n",
       "      <th>label_bnc</th>\n",
       "      <th>label_mcc</th>\n",
       "    </tr>\n",
       "  </thead>\n",
       "  <tbody>\n",
       "    <tr>\n",
       "      <th>0</th>\n",
       "      <td>1</td>\n",
       "      <td>1</td>\n",
       "      <td>-0.0007</td>\n",
       "      <td>-0.0004</td>\n",
       "      <td>100.0</td>\n",
       "      <td>518.67</td>\n",
       "      <td>641.82</td>\n",
       "      <td>1589.70</td>\n",
       "      <td>1400.60</td>\n",
       "      <td>14.62</td>\n",
       "      <td>...</td>\n",
       "      <td>0.000000</td>\n",
       "      <td>0.0</td>\n",
       "      <td>0.000000</td>\n",
       "      <td>0.0</td>\n",
       "      <td>0.0</td>\n",
       "      <td>0.000000</td>\n",
       "      <td>0.000000</td>\n",
       "      <td>191</td>\n",
       "      <td>0</td>\n",
       "      <td>0</td>\n",
       "    </tr>\n",
       "    <tr>\n",
       "      <th>1</th>\n",
       "      <td>1</td>\n",
       "      <td>2</td>\n",
       "      <td>0.0019</td>\n",
       "      <td>-0.0003</td>\n",
       "      <td>100.0</td>\n",
       "      <td>518.67</td>\n",
       "      <td>642.15</td>\n",
       "      <td>1591.82</td>\n",
       "      <td>1403.14</td>\n",
       "      <td>14.62</td>\n",
       "      <td>...</td>\n",
       "      <td>0.008697</td>\n",
       "      <td>0.0</td>\n",
       "      <td>0.000000</td>\n",
       "      <td>0.0</td>\n",
       "      <td>0.0</td>\n",
       "      <td>0.042426</td>\n",
       "      <td>0.003253</td>\n",
       "      <td>190</td>\n",
       "      <td>0</td>\n",
       "      <td>0</td>\n",
       "    </tr>\n",
       "    <tr>\n",
       "      <th>2</th>\n",
       "      <td>1</td>\n",
       "      <td>3</td>\n",
       "      <td>-0.0043</td>\n",
       "      <td>0.0003</td>\n",
       "      <td>100.0</td>\n",
       "      <td>518.67</td>\n",
       "      <td>642.35</td>\n",
       "      <td>1587.99</td>\n",
       "      <td>1404.20</td>\n",
       "      <td>14.62</td>\n",
       "      <td>...</td>\n",
       "      <td>0.007640</td>\n",
       "      <td>0.0</td>\n",
       "      <td>1.154701</td>\n",
       "      <td>0.0</td>\n",
       "      <td>0.0</td>\n",
       "      <td>0.055076</td>\n",
       "      <td>0.044573</td>\n",
       "      <td>189</td>\n",
       "      <td>0</td>\n",
       "      <td>0</td>\n",
       "    </tr>\n",
       "    <tr>\n",
       "      <th>3</th>\n",
       "      <td>1</td>\n",
       "      <td>4</td>\n",
       "      <td>0.0007</td>\n",
       "      <td>0.0000</td>\n",
       "      <td>100.0</td>\n",
       "      <td>518.67</td>\n",
       "      <td>642.35</td>\n",
       "      <td>1582.79</td>\n",
       "      <td>1401.87</td>\n",
       "      <td>14.62</td>\n",
       "      <td>...</td>\n",
       "      <td>0.028117</td>\n",
       "      <td>0.0</td>\n",
       "      <td>1.000000</td>\n",
       "      <td>0.0</td>\n",
       "      <td>0.0</td>\n",
       "      <td>0.076322</td>\n",
       "      <td>0.037977</td>\n",
       "      <td>188</td>\n",
       "      <td>0</td>\n",
       "      <td>0</td>\n",
       "    </tr>\n",
       "    <tr>\n",
       "      <th>4</th>\n",
       "      <td>1</td>\n",
       "      <td>5</td>\n",
       "      <td>-0.0019</td>\n",
       "      <td>-0.0002</td>\n",
       "      <td>100.0</td>\n",
       "      <td>518.67</td>\n",
       "      <td>642.37</td>\n",
       "      <td>1582.85</td>\n",
       "      <td>1406.22</td>\n",
       "      <td>14.62</td>\n",
       "      <td>...</td>\n",
       "      <td>0.025953</td>\n",
       "      <td>0.0</td>\n",
       "      <td>1.095445</td>\n",
       "      <td>0.0</td>\n",
       "      <td>0.0</td>\n",
       "      <td>0.073621</td>\n",
       "      <td>0.033498</td>\n",
       "      <td>187</td>\n",
       "      <td>0</td>\n",
       "      <td>0</td>\n",
       "    </tr>\n",
       "  </tbody>\n",
       "</table>\n",
       "<p>5 rows × 71 columns</p>\n",
       "</div>"
      ],
      "text/plain": [
       "   id  cycle  setting1  setting2  setting3      s1      s2       s3       s4  \\\n",
       "0   1      1   -0.0007   -0.0004     100.0  518.67  641.82  1589.70  1400.60   \n",
       "1   1      2    0.0019   -0.0003     100.0  518.67  642.15  1591.82  1403.14   \n",
       "2   1      3   -0.0043    0.0003     100.0  518.67  642.35  1587.99  1404.20   \n",
       "3   1      4    0.0007    0.0000     100.0  518.67  642.35  1582.79  1401.87   \n",
       "4   1      5   -0.0019   -0.0002     100.0  518.67  642.37  1582.85  1406.22   \n",
       "\n",
       "      s5  ...      sd15  sd16      sd17  sd18  sd19      sd20      sd21  ttf  \\\n",
       "0  14.62  ...  0.000000   0.0  0.000000   0.0   0.0  0.000000  0.000000  191   \n",
       "1  14.62  ...  0.008697   0.0  0.000000   0.0   0.0  0.042426  0.003253  190   \n",
       "2  14.62  ...  0.007640   0.0  1.154701   0.0   0.0  0.055076  0.044573  189   \n",
       "3  14.62  ...  0.028117   0.0  1.000000   0.0   0.0  0.076322  0.037977  188   \n",
       "4  14.62  ...  0.025953   0.0  1.095445   0.0   0.0  0.073621  0.033498  187   \n",
       "\n",
       "   label_bnc  label_mcc  \n",
       "0          0          0  \n",
       "1          0          0  \n",
       "2          0          0  \n",
       "3          0          0  \n",
       "4          0          0  \n",
       "\n",
       "[5 rows x 71 columns]"
      ]
     },
     "execution_count": 2,
     "metadata": {},
     "output_type": "execute_result"
    }
   ],
   "source": [
    "# load training data\n",
    "df_train = pd.read_csv('./data/train.csv')\n",
    "df_train.head()"
   ]
  },
  {
   "cell_type": "code",
   "execution_count": 3,
   "id": "c4117709",
   "metadata": {},
   "outputs": [
    {
     "data": {
      "text/html": [
       "<div>\n",
       "<style scoped>\n",
       "    .dataframe tbody tr th:only-of-type {\n",
       "        vertical-align: middle;\n",
       "    }\n",
       "\n",
       "    .dataframe tbody tr th {\n",
       "        vertical-align: top;\n",
       "    }\n",
       "\n",
       "    .dataframe thead th {\n",
       "        text-align: right;\n",
       "    }\n",
       "</style>\n",
       "<table border=\"1\" class=\"dataframe\">\n",
       "  <thead>\n",
       "    <tr style=\"text-align: right;\">\n",
       "      <th></th>\n",
       "      <th>id</th>\n",
       "      <th>cycle</th>\n",
       "      <th>setting1</th>\n",
       "      <th>setting2</th>\n",
       "      <th>setting3</th>\n",
       "      <th>s1</th>\n",
       "      <th>s2</th>\n",
       "      <th>s3</th>\n",
       "      <th>s4</th>\n",
       "      <th>s5</th>\n",
       "      <th>...</th>\n",
       "      <th>sd15</th>\n",
       "      <th>sd16</th>\n",
       "      <th>sd17</th>\n",
       "      <th>sd18</th>\n",
       "      <th>sd19</th>\n",
       "      <th>sd20</th>\n",
       "      <th>sd21</th>\n",
       "      <th>ttf</th>\n",
       "      <th>label_bnc</th>\n",
       "      <th>label_mcc</th>\n",
       "    </tr>\n",
       "  </thead>\n",
       "  <tbody>\n",
       "    <tr>\n",
       "      <th>0</th>\n",
       "      <td>1</td>\n",
       "      <td>31</td>\n",
       "      <td>-0.0006</td>\n",
       "      <td>0.0004</td>\n",
       "      <td>100.0</td>\n",
       "      <td>518.67</td>\n",
       "      <td>642.58</td>\n",
       "      <td>1581.22</td>\n",
       "      <td>1398.91</td>\n",
       "      <td>14.62</td>\n",
       "      <td>...</td>\n",
       "      <td>0.021174</td>\n",
       "      <td>0.0</td>\n",
       "      <td>0.707107</td>\n",
       "      <td>0.0</td>\n",
       "      <td>0.0</td>\n",
       "      <td>0.124016</td>\n",
       "      <td>0.025037</td>\n",
       "      <td>112</td>\n",
       "      <td>0</td>\n",
       "      <td>0</td>\n",
       "    </tr>\n",
       "    <tr>\n",
       "      <th>1</th>\n",
       "      <td>2</td>\n",
       "      <td>49</td>\n",
       "      <td>0.0018</td>\n",
       "      <td>-0.0001</td>\n",
       "      <td>100.0</td>\n",
       "      <td>518.67</td>\n",
       "      <td>642.55</td>\n",
       "      <td>1586.59</td>\n",
       "      <td>1410.83</td>\n",
       "      <td>14.62</td>\n",
       "      <td>...</td>\n",
       "      <td>0.011429</td>\n",
       "      <td>0.0</td>\n",
       "      <td>1.095445</td>\n",
       "      <td>0.0</td>\n",
       "      <td>0.0</td>\n",
       "      <td>0.069785</td>\n",
       "      <td>0.027820</td>\n",
       "      <td>98</td>\n",
       "      <td>0</td>\n",
       "      <td>0</td>\n",
       "    </tr>\n",
       "    <tr>\n",
       "      <th>2</th>\n",
       "      <td>3</td>\n",
       "      <td>126</td>\n",
       "      <td>-0.0016</td>\n",
       "      <td>0.0004</td>\n",
       "      <td>100.0</td>\n",
       "      <td>518.67</td>\n",
       "      <td>642.88</td>\n",
       "      <td>1589.75</td>\n",
       "      <td>1418.89</td>\n",
       "      <td>14.62</td>\n",
       "      <td>...</td>\n",
       "      <td>0.030924</td>\n",
       "      <td>0.0</td>\n",
       "      <td>0.836660</td>\n",
       "      <td>0.0</td>\n",
       "      <td>0.0</td>\n",
       "      <td>0.143631</td>\n",
       "      <td>0.018966</td>\n",
       "      <td>69</td>\n",
       "      <td>0</td>\n",
       "      <td>0</td>\n",
       "    </tr>\n",
       "    <tr>\n",
       "      <th>3</th>\n",
       "      <td>4</td>\n",
       "      <td>106</td>\n",
       "      <td>0.0012</td>\n",
       "      <td>0.0004</td>\n",
       "      <td>100.0</td>\n",
       "      <td>518.67</td>\n",
       "      <td>642.78</td>\n",
       "      <td>1594.53</td>\n",
       "      <td>1406.88</td>\n",
       "      <td>14.62</td>\n",
       "      <td>...</td>\n",
       "      <td>0.021249</td>\n",
       "      <td>0.0</td>\n",
       "      <td>1.341641</td>\n",
       "      <td>0.0</td>\n",
       "      <td>0.0</td>\n",
       "      <td>0.126372</td>\n",
       "      <td>0.021106</td>\n",
       "      <td>82</td>\n",
       "      <td>0</td>\n",
       "      <td>0</td>\n",
       "    </tr>\n",
       "    <tr>\n",
       "      <th>4</th>\n",
       "      <td>5</td>\n",
       "      <td>98</td>\n",
       "      <td>-0.0013</td>\n",
       "      <td>-0.0004</td>\n",
       "      <td>100.0</td>\n",
       "      <td>518.67</td>\n",
       "      <td>642.27</td>\n",
       "      <td>1589.94</td>\n",
       "      <td>1419.36</td>\n",
       "      <td>14.62</td>\n",
       "      <td>...</td>\n",
       "      <td>0.009627</td>\n",
       "      <td>0.0</td>\n",
       "      <td>0.547723</td>\n",
       "      <td>0.0</td>\n",
       "      <td>0.0</td>\n",
       "      <td>0.091924</td>\n",
       "      <td>0.101100</td>\n",
       "      <td>91</td>\n",
       "      <td>0</td>\n",
       "      <td>0</td>\n",
       "    </tr>\n",
       "  </tbody>\n",
       "</table>\n",
       "<p>5 rows × 71 columns</p>\n",
       "</div>"
      ],
      "text/plain": [
       "   id  cycle  setting1  setting2  setting3      s1      s2       s3       s4  \\\n",
       "0   1     31   -0.0006    0.0004     100.0  518.67  642.58  1581.22  1398.91   \n",
       "1   2     49    0.0018   -0.0001     100.0  518.67  642.55  1586.59  1410.83   \n",
       "2   3    126   -0.0016    0.0004     100.0  518.67  642.88  1589.75  1418.89   \n",
       "3   4    106    0.0012    0.0004     100.0  518.67  642.78  1594.53  1406.88   \n",
       "4   5     98   -0.0013   -0.0004     100.0  518.67  642.27  1589.94  1419.36   \n",
       "\n",
       "      s5  ...      sd15  sd16      sd17  sd18  sd19      sd20      sd21  ttf  \\\n",
       "0  14.62  ...  0.021174   0.0  0.707107   0.0   0.0  0.124016  0.025037  112   \n",
       "1  14.62  ...  0.011429   0.0  1.095445   0.0   0.0  0.069785  0.027820   98   \n",
       "2  14.62  ...  0.030924   0.0  0.836660   0.0   0.0  0.143631  0.018966   69   \n",
       "3  14.62  ...  0.021249   0.0  1.341641   0.0   0.0  0.126372  0.021106   82   \n",
       "4  14.62  ...  0.009627   0.0  0.547723   0.0   0.0  0.091924  0.101100   91   \n",
       "\n",
       "   label_bnc  label_mcc  \n",
       "0          0          0  \n",
       "1          0          0  \n",
       "2          0          0  \n",
       "3          0          0  \n",
       "4          0          0  \n",
       "\n",
       "[5 rows x 71 columns]"
      ]
     },
     "execution_count": 3,
     "metadata": {},
     "output_type": "execute_result"
    }
   ],
   "source": [
    "# load test data \n",
    "df_test = pd.read_csv('./data/test.csv')\n",
    "df_test.head()"
   ]
  },
  {
   "cell_type": "markdown",
   "id": "279eda95",
   "metadata": {},
   "source": [
    "## Task 2: Regression Modelling Algorithms"
   ]
  },
  {
   "cell_type": "markdown",
   "id": "05a93ef8",
   "metadata": {},
   "source": [
    "__Dự đoán thời gian xảy ra lỗi của động cơ (TTF)__"
   ]
  },
  {
   "cell_type": "markdown",
   "id": "22ca34a3",
   "metadata": {},
   "source": [
    "Cả hai mô hình hồi quy tuyến tính (linear) và phi tuyến tính (non-linear) đều được thử để dự đoán TTF của động cơ. Machine\n",
    "learning algorithms đã được thử và các chỉ số hiệu suất của chúng được tính toán và đánh giá: Linear Regression, LASSO Regression, Ridge Regression, Decision Tree Regression, Polynomial Regression, Random Forests Regression. Định nghĩa ngắn gọn về các thuật toán này:"
   ]
  },
  {
   "cell_type": "markdown",
   "id": "e45746df",
   "metadata": {},
   "source": [
    "    \n",
    "   -  Linear Regression: phương pháp phân tích thống kê ước tính mối quan hệ giữa một hoặc nhiều\n",
    "các biến độc lập và một biến phụ thuộc; phương pháp ước tính mối quan hệ bằng cách giảm thiểu\n",
    "tổng bình phương chênh lệch giữa các giá trị được quan sát và dự đoán của giá trị phụ thuộc\n",
    "biến được định cấu hình là một đường thẳng hoặc siêu phẳng.\n",
    "\n",
    "-  LASSO: (Least Absolute Shrinkage and Selection Operator) (Toán tử Lựa chọn và Thu nhỏ Tuyệt đối Ít nhất) là một phiên bản chính quy của bình phương nhỏ nhất hồi quy. Nó giảm thiểu tổng sai số bình phương đồng thời xử phạt tiêu chuẩn L1 (tổng của tuyệt đối giá trị) của các hệ số.\n",
    "\n",
    "\n",
    "-  Ridge Regression là một kỹ thuật để phân tích nhiều dữ liệu hồi quy bị đa cộng tuyến. Bằng cách thêm một mức độ chệch cho các ước tính hồi quy, làm giảm sai số tiêu chuẩn.\n",
    "\n",
    "\n",
    "-  Polynomial Regression là một dạng phân tích hồi quy trong đó mối quan hệ giữa các biến x và biến phụ thuộc y được mô hình hóa dưới dạng đa thức bậc n trong x.\n",
    "\n",
    "\n",
    "-  Decision Tree học theo kiểu phân cấp bằng cách liên tục tách tập dữ liệu thành các nhánh riêng biệt tối đa hóa thông tin thu được của mỗi lần phân chia. Trong cây hồi quy, giá trị thu được bởi các nút đầu cuối trong dữ liệu đào tạo là phản ứng trung bình của quan sát rơi vào vùng đó, trong khi trong phân loại cây, giá trị (lớp) thu được bởi nút đầu cuối trong dữ liệu huấn luyện là chế độ quan sát giảm trong khu vực đó\n",
    "\n",
    "\n",
    "-  Random Forests là một phương pháp học tập tổng hợp để phân loại, hồi quy và các nhiệm vụ khác, hoạt động bằng cách xây dựng vô số cây quyết định tại thời điểm đào tạo và xuất ra lớpchế độ của các lớp (phân loại) hoặc dự đoán trung bình (hồi quy) của các cây riêng lẻ."
   ]
  },
  {
   "cell_type": "code",
   "execution_count": 32,
   "id": "f9171d1e",
   "metadata": {},
   "outputs": [],
   "source": [
    "# Chuẩn bị data cho regression model\n",
    "\n",
    "# features ban đầu\n",
    "features_orig = ['setting1','setting2','setting3','s1','s2','s3','s4','s5',\n",
    "                 's6','s7','s8','s9','s10','s11','s12','s13','s14','s15',\n",
    "                 's16','s17','s18','s19','s20','s21']\n",
    "\n",
    "# fetures ban đầu  + extracted fetures\n",
    "features_adxf = ['setting1', 'setting2', 'setting3', 's1', 's2', 's3', 's4', \n",
    "                 's5', 's6', 's7', 's8', 's9', 's10', 's11', 's12', 's13', \n",
    "                 's14', 's15', 's16', 's17', 's18', 's19', 's20', 's21', \n",
    "                 'av1', 'av2', 'av3', 'av4', 'av5', 'av6', 'av7', 'av8', \n",
    "                 'av9', 'av10', 'av11', 'av12', 'av13', 'av14', 'av15', \n",
    "                 'av16', 'av17', 'av18', 'av19', 'av20', 'av21', 'sd1', \n",
    "                 'sd2', 'sd3', 'sd4', 'sd5', 'sd6', 'sd7', 'sd8', 'sd9', \n",
    "                 'sd10', 'sd11', 'sd12', 'sd13', 'sd14', 'sd15', 'sd16', \n",
    "                 'sd17', 'sd18', 'sd19', 'sd20', 'sd21']\n",
    "\n",
    "# features có mối tương quan thấp hoặc không có regression label\n",
    "features_lowcr = ['setting3', 's1', 's10', 's18','s19','s16','s5', \n",
    "                  'setting1', 'setting2']\n",
    "\n",
    "# features có mối tương quan với regression label\n",
    "features_corrl = ['s2', 's3', 's4', 's6', 's7', 's8', 's9', 's11', 's12', 's13', 's14', 's15', 's17', 's20','s21']\n",
    "\n",
    "#  Biến để giữ tập hợp các features để thử nghiệm.\n",
    "features = features_orig\n",
    "\n",
    "\n",
    "X_train = df_train[features]\n",
    "y_train = df_train['ttf']\n",
    "\n",
    "X_test = df_test[features]\n",
    "y_test = df_test['ttf']"
   ]
  },
  {
   "cell_type": "code",
   "execution_count": 36,
   "id": "737c4cb3",
   "metadata": {},
   "outputs": [],
   "source": [
    "# Tạo function tính regression metrics\n",
    "def get_regression_metrics(model, actual, predicted):\n",
    "    \n",
    "    \"\"\"Tính regression metrics.\n",
    "    \n",
    "        model (str):  model name identifier\n",
    "        actual (series): chứa các test label values\n",
    "        predicted (series): Chứa các giá trị dự đoán (predicted values)\n",
    "        \n",
    "    Returns:\n",
    "        dataframe: Các chỉ số được kết hợp trong dataframe\n",
    "    \n",
    "    \n",
    "    \"\"\"\n",
    "    regr_metrics = {\n",
    "                        'Root Mean Squared Error' : metrics.mean_squared_error(actual, predicted)**0.5,\n",
    "                        'Mean Absolute Error' : metrics.mean_absolute_error(actual, predicted),\n",
    "                        'R^2' : metrics.r2_score(actual, predicted),\n",
    "                        'Explained Variance' : metrics.explained_variance_score(actual, predicted)\n",
    "                   }\n",
    "\n",
    "    #return reg_metrics\n",
    "    df_regr_metrics = pd.DataFrame.from_dict(regr_metrics, orient='index')\n",
    "    df_regr_metrics.columns = [model]\n",
    "    return df_regr_metrics"
   ]
  },
  {
   "cell_type": "code",
   "execution_count": 43,
   "id": "a1cfc520",
   "metadata": {},
   "outputs": [],
   "source": [
    "# Tạo function vẽ oefficients weights hoặc feature importance\n",
    "def plot_features_weights(model, weights, feature_names, weights_type='c'):\n",
    "    \n",
    "    \"\"\"Vẽ regression coefficients weights hoặc feature importance.\n",
    "    \n",
    "    Args:\n",
    "        model (str):  model name identifier\n",
    "        weights (array): chứa regression coefficients weights hoặc feature importance\n",
    "        feature_names (list): chứa corresponding features names\n",
    "        weights_type (str): 'c' for 'coefficients weights', otherwise is 'feature importance'\n",
    "        \n",
    "    Returns:\n",
    "        Vẽ regression coefficients weights hoặc feature importance\n",
    "        \n",
    "    \n",
    "    \"\"\"\n",
    "    (px, py) = (8, 10) if len(weights) > 30 else (8, 5)\n",
    "    W = pd.DataFrame({'Weights':weights}, feature_names)\n",
    "    W.sort_values(by='Weights', ascending=True).plot(kind='barh', color='r', figsize=(px,py))\n",
    "    label = ' Coefficients' if weights_type =='c' else ' Features Importance'\n",
    "    plt.xlabel(model + label)\n",
    "    plt.gca().legend_ = None"
   ]
  },
  {
   "cell_type": "code",
   "execution_count": 48,
   "id": "8ed72387",
   "metadata": {},
   "outputs": [],
   "source": [
    "# Tạo function vẽ regression residuals\n",
    "def plot_residual(model, y_train, y_train_pred, y_test, y_test_pred):\n",
    "    \n",
    "    \"\"\"In regression residuals.\n",
    "    \n",
    "    Args:\n",
    "        model (str): model name identifier\n",
    "        y_train (series): training labels\n",
    "        y_train_pred (series): Dự đoán về training data\n",
    "        y_test (series): test labels\n",
    "        y_test_pred (series): Dự đoán test data\n",
    "        \n",
    "    Returns:\n",
    "        Vẽ regression residuals\n",
    "    \n",
    "    \"\"\"\n",
    "    \n",
    "    plt.scatter(y_train_pred, y_train_pred - y_train, c='blue', marker='o', label='Training data')\n",
    "    plt.scatter(y_test_pred, y_test_pred - y_test, c='lightgreen', marker='s', label='Test data')\n",
    "    plt.xlabel('Predicted Values')\n",
    "    plt.ylabel('Residuals')\n",
    "    plt.legend(loc='upper left')\n",
    "    plt.hlines(y=0, xmin=-50, xmax=400, color='red', lw=2)\n",
    "    plt.title(model + ' Residuals')\n",
    "    plt.show()"
   ]
  },
  {
   "cell_type": "markdown",
   "id": "a62a2471",
   "metadata": {},
   "source": [
    "Sử dụng các hàm trên, chúng ta hãy lập mô hình và đánh giá một số thuật toán hồi quy"
   ]
  },
  {
   "cell_type": "markdown",
   "id": "b6154bdf",
   "metadata": {},
   "source": [
    "### Task 2.1.Linear regression"
   ]
  },
  {
   "cell_type": "code",
   "execution_count": 51,
   "id": "524743df",
   "metadata": {},
   "outputs": [
    {
     "name": "stdout",
     "output_type": "stream",
     "text": [
      "R^2 training: 0.580, R^2 test: 0.405\n"
     ]
    },
    {
     "data": {
      "text/html": [
       "<div>\n",
       "<style scoped>\n",
       "    .dataframe tbody tr th:only-of-type {\n",
       "        vertical-align: middle;\n",
       "    }\n",
       "\n",
       "    .dataframe tbody tr th {\n",
       "        vertical-align: top;\n",
       "    }\n",
       "\n",
       "    .dataframe thead th {\n",
       "        text-align: right;\n",
       "    }\n",
       "</style>\n",
       "<table border=\"1\" class=\"dataframe\">\n",
       "  <thead>\n",
       "    <tr style=\"text-align: right;\">\n",
       "      <th></th>\n",
       "      <th>Linear Regression</th>\n",
       "    </tr>\n",
       "  </thead>\n",
       "  <tbody>\n",
       "    <tr>\n",
       "      <th>Root Mean Squared Error</th>\n",
       "      <td>32.041095</td>\n",
       "    </tr>\n",
       "    <tr>\n",
       "      <th>Mean Absolute Error</th>\n",
       "      <td>25.591780</td>\n",
       "    </tr>\n",
       "    <tr>\n",
       "      <th>R^2</th>\n",
       "      <td>0.405495</td>\n",
       "    </tr>\n",
       "    <tr>\n",
       "      <th>Explained Variance</th>\n",
       "      <td>0.665297</td>\n",
       "    </tr>\n",
       "  </tbody>\n",
       "</table>\n",
       "</div>"
      ],
      "text/plain": [
       "                         Linear Regression\n",
       "Root Mean Squared Error          32.041095\n",
       "Mean Absolute Error              25.591780\n",
       "R^2                               0.405495\n",
       "Explained Variance                0.665297"
      ]
     },
     "execution_count": 51,
     "metadata": {},
     "output_type": "execute_result"
    }
   ],
   "source": [
    "linreg = linear_model.LinearRegression()\n",
    "linreg.fit(X_train, y_train)\n",
    "\n",
    "y_test_predict = linreg.predict(X_test)\n",
    "y_train_predict = linreg.predict(X_train)\n",
    "\n",
    "print('R^2 training: %.3f, R^2 test: %.3f' % (\n",
    "      (metrics.r2_score(y_train, y_train_predict)), \n",
    "      (metrics.r2_score(y_test, y_test_predict))))\n",
    "\n",
    "linreg_metrics = get_regression_metrics('Linear Regression', y_test, y_test_predict)\n",
    "linreg_metrics"
   ]
  },
  {
   "cell_type": "code",
   "execution_count": 53,
   "id": "01477fc0",
   "metadata": {},
   "outputs": [
    {
     "data": {
      "image/png": "[encoded data removed]",
      "text/plain": [
       "<Figure size 576x360 with 1 Axes>"
      ]
     },
     "metadata": {
      "needs_background": "light"
     },
     "output_type": "display_data"
    }
   ],
   "source": [
    "plot_features_weights('Linear Regression', linreg.coef_, X_train.columns, 'c')"
   ]
  },
  {
   "cell_type": "code",
   "execution_count": 56,
   "id": "2944c8d0",
   "metadata": {},
   "outputs": [
    {
     "data": {
      "image/png": "[encoded data removed]",
      "text/plain": [
       "<Figure size 432x288 with 1 Axes>"
      ]
     },
     "metadata": {
      "needs_background": "light"
     },
     "output_type": "display_data"
    }
   ],
   "source": [
    "plot_residual('Linear Regression', y_train_predict, y_train, y_test_predict, y_test)"
   ]
  },
  {
   "cell_type": "markdown",
   "id": "21fece35",
   "metadata": {},
   "source": [
    "### Task 2.2. LASSO"
   ]
  },
  {
   "cell_type": "code",
   "execution_count": 59,
   "id": "055e727f",
   "metadata": {},
   "outputs": [
    {
     "name": "stdout",
     "output_type": "stream",
     "text": [
      "R^2 training: 0.579, R^2 test: 0.408\n"
     ]
    },
    {
     "data": {
      "text/html": [
       "<div>\n",
       "<style scoped>\n",
       "    .dataframe tbody tr th:only-of-type {\n",
       "        vertical-align: middle;\n",
       "    }\n",
       "\n",
       "    .dataframe tbody tr th {\n",
       "        vertical-align: top;\n",
       "    }\n",
       "\n",
       "    .dataframe thead th {\n",
       "        text-align: right;\n",
       "    }\n",
       "</style>\n",
       "<table border=\"1\" class=\"dataframe\">\n",
       "  <thead>\n",
       "    <tr style=\"text-align: right;\">\n",
       "      <th></th>\n",
       "      <th>LASSO</th>\n",
       "    </tr>\n",
       "  </thead>\n",
       "  <tbody>\n",
       "    <tr>\n",
       "      <th>Root Mean Squared Error</th>\n",
       "      <td>31.966099</td>\n",
       "    </tr>\n",
       "    <tr>\n",
       "      <th>Mean Absolute Error</th>\n",
       "      <td>25.551808</td>\n",
       "    </tr>\n",
       "    <tr>\n",
       "      <th>R^2</th>\n",
       "      <td>0.408275</td>\n",
       "    </tr>\n",
       "    <tr>\n",
       "      <th>Explained Variance</th>\n",
       "      <td>0.668206</td>\n",
       "    </tr>\n",
       "  </tbody>\n",
       "</table>\n",
       "</div>"
      ],
      "text/plain": [
       "                             LASSO\n",
       "Root Mean Squared Error  31.966099\n",
       "Mean Absolute Error      25.551808\n",
       "R^2                       0.408275\n",
       "Explained Variance        0.668206"
      ]
     },
     "execution_count": 59,
     "metadata": {},
     "output_type": "execute_result"
    }
   ],
   "source": [
    "lasso = linear_model.Lasso(alpha=0.001)\n",
    "lasso.fit(X_train, y_train)\n",
    "\n",
    "y_test_predict = lasso.predict(X_test)\n",
    "y_train_predict = lasso.predict(X_train)\n",
    "\n",
    "print('R^2 training: %.3f, R^2 test: %.3f' % (\n",
    "      (metrics.r2_score(y_train, y_train_predict)), \n",
    "      (metrics.r2_score(y_test, y_test_predict))))\n",
    "\n",
    "lasso_metrics = get_regression_metrics('LASSO', y_test, y_test_predict)\n",
    "\n",
    "lasso_metrics"
   ]
  },
  {
   "cell_type": "code",
   "execution_count": 62,
   "id": "bf60ff92",
   "metadata": {},
   "outputs": [
    {
     "data": {
      "image/png": "[encoded data removed]",
      "text/plain": [
       "<Figure size 576x360 with 1 Axes>"
      ]
     },
     "metadata": {
      "needs_background": "light"
     },
     "output_type": "display_data"
    }
   ],
   "source": [
    "plot_features_weights('LASSO', lasso.coef_, X_train.columns, 'c')"
   ]
  },
  {
   "cell_type": "code",
   "execution_count": 67,
   "id": "52a1c2de",
   "metadata": {},
   "outputs": [
    {
     "data": {
      "image/png": "[encoded data removed]",
      "text/plain": [
       "<Figure size 432x288 with 1 Axes>"
      ]
     },
     "metadata": {
      "needs_background": "light"
     },
     "output_type": "display_data"
    }
   ],
   "source": [
    "plot_residual('LASSO', y_train_predict, y_train, y_test_predict, y_test)"
   ]
  },
  {
   "cell_type": "markdown",
   "id": "28ceaf8c",
   "metadata": {},
   "source": [
    "### Task 2.3.Ridge Regression"
   ]
  },
  {
   "cell_type": "code",
   "execution_count": 71,
   "id": "209d9b2f",
   "metadata": {},
   "outputs": [
    {
     "name": "stdout",
     "output_type": "stream",
     "text": [
      "R^2 training: 0.580, R^2 test: 0.408\n"
     ]
    },
    {
     "data": {
      "text/html": [
       "<div>\n",
       "<style scoped>\n",
       "    .dataframe tbody tr th:only-of-type {\n",
       "        vertical-align: middle;\n",
       "    }\n",
       "\n",
       "    .dataframe tbody tr th {\n",
       "        vertical-align: top;\n",
       "    }\n",
       "\n",
       "    .dataframe thead th {\n",
       "        text-align: right;\n",
       "    }\n",
       "</style>\n",
       "<table border=\"1\" class=\"dataframe\">\n",
       "  <thead>\n",
       "    <tr style=\"text-align: right;\">\n",
       "      <th></th>\n",
       "      <th>Ridge Regression</th>\n",
       "    </tr>\n",
       "  </thead>\n",
       "  <tbody>\n",
       "    <tr>\n",
       "      <th>Root Mean Squared Error</th>\n",
       "      <td>31.965740</td>\n",
       "    </tr>\n",
       "    <tr>\n",
       "      <th>Mean Absolute Error</th>\n",
       "      <td>25.544620</td>\n",
       "    </tr>\n",
       "    <tr>\n",
       "      <th>R^2</th>\n",
       "      <td>0.408289</td>\n",
       "    </tr>\n",
       "    <tr>\n",
       "      <th>Explained Variance</th>\n",
       "      <td>0.667607</td>\n",
       "    </tr>\n",
       "  </tbody>\n",
       "</table>\n",
       "</div>"
      ],
      "text/plain": [
       "                         Ridge Regression\n",
       "Root Mean Squared Error         31.965740\n",
       "Mean Absolute Error             25.544620\n",
       "R^2                              0.408289\n",
       "Explained Variance               0.667607"
      ]
     },
     "execution_count": 71,
     "metadata": {},
     "output_type": "execute_result"
    }
   ],
   "source": [
    "rdg = linear_model.Ridge(alpha=0.01)\n",
    "rdg.fit(X_train, y_train)\n",
    "\n",
    "y_test_predict = rdg.predict(X_test)\n",
    "y_train_predict = rdg.predict(X_train)\n",
    "\n",
    "print('R^2 training: %.3f, R^2 test: %.3f' % (\n",
    "      (metrics.r2_score(y_train, y_train_predict)), \n",
    "      (metrics.r2_score(y_test, y_test_predict))))\n",
    "\n",
    "rdg_metrics = get_regression_metrics('Ridge Regression', y_test, y_test_predict)\n",
    "rdg_metrics"
   ]
  },
  {
   "cell_type": "code",
   "execution_count": 72,
   "id": "3881946e",
   "metadata": {},
   "outputs": [
    {
     "data": {
      "image/png": "[encoded data removed]",
      "text/plain": [
       "<Figure size 576x360 with 1 Axes>"
      ]
     },
     "metadata": {
      "needs_background": "light"
     },
     "output_type": "display_data"
    }
   ],
   "source": [
    "plot_features_weights('Ridge Regression', rdg.coef_, X_train.columns, 'c')"
   ]
  },
  {
   "cell_type": "code",
   "execution_count": 73,
   "id": "056727e3",
   "metadata": {},
   "outputs": [
    {
     "data": {
      "image/png": "[encoded data removed]",
      "text/plain": [
       "<Figure size 432x288 with 1 Axes>"
      ]
     },
     "metadata": {
      "needs_background": "light"
     },
     "output_type": "display_data"
    }
   ],
   "source": [
    "plot_residual('Ridge Regression', y_train_predict, y_train, y_test_predict, y_test)"
   ]
  },
  {
   "cell_type": "markdown",
   "id": "f84bf432",
   "metadata": {},
   "source": [
    "### Task 2.4.Polynomial Regression"
   ]
  },
  {
   "cell_type": "code",
   "execution_count": 76,
   "id": "814624b5",
   "metadata": {},
   "outputs": [
    {
     "name": "stdout",
     "output_type": "stream",
     "text": [
      "R^2 training: 0.626, R^2 test: 0.383\n"
     ]
    },
    {
     "data": {
      "text/html": [
       "<div>\n",
       "<style scoped>\n",
       "    .dataframe tbody tr th:only-of-type {\n",
       "        vertical-align: middle;\n",
       "    }\n",
       "\n",
       "    .dataframe tbody tr th {\n",
       "        vertical-align: top;\n",
       "    }\n",
       "\n",
       "    .dataframe thead th {\n",
       "        text-align: right;\n",
       "    }\n",
       "</style>\n",
       "<table border=\"1\" class=\"dataframe\">\n",
       "  <thead>\n",
       "    <tr style=\"text-align: right;\">\n",
       "      <th></th>\n",
       "      <th>Polynomial Regression</th>\n",
       "    </tr>\n",
       "  </thead>\n",
       "  <tbody>\n",
       "    <tr>\n",
       "      <th>Root Mean Squared Error</th>\n",
       "      <td>32.634337</td>\n",
       "    </tr>\n",
       "    <tr>\n",
       "      <th>Mean Absolute Error</th>\n",
       "      <td>24.968125</td>\n",
       "    </tr>\n",
       "    <tr>\n",
       "      <th>R^2</th>\n",
       "      <td>0.383277</td>\n",
       "    </tr>\n",
       "    <tr>\n",
       "      <th>Explained Variance</th>\n",
       "      <td>0.642046</td>\n",
       "    </tr>\n",
       "  </tbody>\n",
       "</table>\n",
       "</div>"
      ],
      "text/plain": [
       "                         Polynomial Regression\n",
       "Root Mean Squared Error              32.634337\n",
       "Mean Absolute Error                  24.968125\n",
       "R^2                                   0.383277\n",
       "Explained Variance                    0.642046"
      ]
     },
     "execution_count": 76,
     "metadata": {},
     "output_type": "execute_result"
    }
   ],
   "source": [
    "from sklearn.preprocessing import PolynomialFeatures\n",
    "\n",
    "poly = PolynomialFeatures(degree=2)\n",
    "\n",
    "X_train_poly = poly.fit_transform(X_train)\n",
    "X_test_poly = poly.fit_transform(X_test)\n",
    "\n",
    "\n",
    "polyreg = linear_model.LinearRegression()\n",
    "polyreg.fit(X_train_poly, y_train)\n",
    "\n",
    "y_test_predict = polyreg.predict(X_test_poly)\n",
    "y_train_predict = polyreg.predict(X_train_poly)\n",
    "\n",
    "print('R^2 training: %.3f, R^2 test: %.3f' % (\n",
    "      (metrics.r2_score(y_train, y_train_predict)), \n",
    "      (metrics.r2_score(y_test, y_test_predict))))\n",
    "\n",
    "polyreg_metrics = get_regression_metrics('Polynomial Regression', y_test, y_test_predict)\n",
    "polyreg_metrics"
   ]
  },
  {
   "cell_type": "code",
   "execution_count": 77,
   "id": "34077dc4",
   "metadata": {},
   "outputs": [
    {
     "data": {
      "image/png": "[encoded data removed]",
      "text/plain": [
       "<Figure size 432x288 with 1 Axes>"
      ]
     },
     "metadata": {
      "needs_background": "light"
     },
     "output_type": "display_data"
    }
   ],
   "source": [
    "plot_residual('Polynomial Regression', y_train_predict, y_train, y_test_predict, y_test)"
   ]
  },
  {
   "cell_type": "markdown",
   "id": "5ce8aedb",
   "metadata": {},
   "source": [
    "__Polynomial Regression đạt điểm cao hơn linear models__"
   ]
  },
  {
   "cell_type": "markdown",
   "id": "fd4468fe",
   "metadata": {},
   "source": [
    "### Task 2.5.Decision Tree Regression"
   ]
  },
  {
   "cell_type": "code",
   "execution_count": 82,
   "id": "066dc6d6",
   "metadata": {},
   "outputs": [
    {
     "name": "stdout",
     "output_type": "stream",
     "text": [
      "R^2 training: 0.625, R^2 test: 0.403\n"
     ]
    },
    {
     "data": {
      "text/html": [
       "<div>\n",
       "<style scoped>\n",
       "    .dataframe tbody tr th:only-of-type {\n",
       "        vertical-align: middle;\n",
       "    }\n",
       "\n",
       "    .dataframe tbody tr th {\n",
       "        vertical-align: top;\n",
       "    }\n",
       "\n",
       "    .dataframe thead th {\n",
       "        text-align: right;\n",
       "    }\n",
       "</style>\n",
       "<table border=\"1\" class=\"dataframe\">\n",
       "  <thead>\n",
       "    <tr style=\"text-align: right;\">\n",
       "      <th></th>\n",
       "      <th>Decision Tree Regression</th>\n",
       "    </tr>\n",
       "  </thead>\n",
       "  <tbody>\n",
       "    <tr>\n",
       "      <th>Root Mean Squared Error</th>\n",
       "      <td>32.095349</td>\n",
       "    </tr>\n",
       "    <tr>\n",
       "      <th>Mean Absolute Error</th>\n",
       "      <td>24.319068</td>\n",
       "    </tr>\n",
       "    <tr>\n",
       "      <th>R^2</th>\n",
       "      <td>0.403480</td>\n",
       "    </tr>\n",
       "    <tr>\n",
       "      <th>Explained Variance</th>\n",
       "      <td>0.632767</td>\n",
       "    </tr>\n",
       "  </tbody>\n",
       "</table>\n",
       "</div>"
      ],
      "text/plain": [
       "                         Decision Tree Regression\n",
       "Root Mean Squared Error                 32.095349\n",
       "Mean Absolute Error                     24.319068\n",
       "R^2                                      0.403480\n",
       "Explained Variance                       0.632767"
      ]
     },
     "execution_count": 82,
     "metadata": {},
     "output_type": "execute_result"
    }
   ],
   "source": [
    "dtrg = DecisionTreeRegressor(max_depth=7, random_state=123)\n",
    "dtrg.fit(X_train, y_train)\n",
    "\n",
    "y_test_predict = dtrg.predict(X_test)\n",
    "y_train_predict = dtrg.predict(X_train)\n",
    "\n",
    "print('R^2 training: %.3f, R^2 test: %.3f' % (\n",
    "      (metrics.r2_score(y_train, y_train_predict)), \n",
    "      (metrics.r2_score(y_test, y_test_predict))))\n",
    "\n",
    "dtrg_metrics = get_regression_metrics('Decision Tree Regression', y_test, y_test_predict)\n",
    "dtrg_metrics"
   ]
  },
  {
   "cell_type": "code",
   "execution_count": 83,
   "id": "131a9619",
   "metadata": {},
   "outputs": [
    {
     "data": {
      "image/png": "[encoded data removed]",
      "text/plain": [
       "<Figure size 576x360 with 1 Axes>"
      ]
     },
     "metadata": {
      "needs_background": "light"
     },
     "output_type": "display_data"
    }
   ],
   "source": [
    "plot_features_weights('Decision Tree Regressor', dtrg.feature_importances_, X_train.columns, 't' )"
   ]
  },
  {
   "cell_type": "code",
   "execution_count": 84,
   "id": "decd8918",
   "metadata": {},
   "outputs": [
    {
     "data": {
      "image/png": "[encoded data removed]",
      "text/plain": [
       "<Figure size 432x288 with 1 Axes>"
      ]
     },
     "metadata": {
      "needs_background": "light"
     },
     "output_type": "display_data"
    }
   ],
   "source": [
    "plot_residual('Decision Tree Regression', y_train_predict, y_train, y_test_predict, y_test)"
   ]
  },
  {
   "cell_type": "code",
   "execution_count": 29,
   "id": "56bc707f",
   "metadata": {},
   "outputs": [],
   "source": [
    "# # Xây dựng Decision tree\n",
    "# import graphviz\n",
    "# # from .dot import Graph, Digraph\n",
    "# # from .files import Source\n",
    "# # from .lang import escape, nohtml\n",
    "# # from . import backend\n",
    "# # from . import files\n",
    "# # from . import lang\n",
    "\n",
    "# import networkx as nx\n",
    "# import pylab as plt\n",
    "# from networkx.drawing.nx_agraph import graphviz_layout\n",
    "\n",
    "# export_graphviz(dtrg, out_file=\"./fig/mytree.dot\", feature_names=X_train.columns)\n",
    "# with open(\"./fig/mytree.dot\") as f:\n",
    "#     dot_graph = f.read()\n",
    "# graphviz.Source(dot_graph)"
   ]
  },
  {
   "cell_type": "code",
   "execution_count": 97,
   "id": "787821d4",
   "metadata": {},
   "outputs": [],
   "source": [
    "# # Loại bỏ feature  recursive \n",
    "\n",
    "# kfold = model_selection.KFold(n_splits=5, random_state=10)\n",
    "\n",
    "# dtrg = DecisionTreeRegressor(max_depth=7)\n",
    "\n",
    "# rfecv = RFECV(estimator=dtrg, step=1, cv=kfold, scoring='neg_mean_squared_error', n_jobs=-1)\n",
    "# rfecv.fit(X_train, y_train)\n",
    "\n",
    "# print(\"Optimal number of features : %d\" % rfecv.n_features_)\n",
    "\n",
    "# sel_features = [f for f,s in zip(X_train.columns, rfecv.support_) if s]\n",
    "# print('The selected features are: {}'.format(sel_features))\n",
    "\n",
    "# # Plot number of features VS. cross-validation scores\n",
    "# plt.figure()\n",
    "# plt.xlabel(\"Number of features selected (RFE)\")\n",
    "# plt.ylabel(\"Cross validation score (mse)\")\n",
    "# plt.plot(range(1, len(rfecv.grid_scores_) + 1), rfecv.grid_scores_)\n",
    "# plt.show()"
   ]
  },
  {
   "cell_type": "code",
   "execution_count": 99,
   "id": "4a588657",
   "metadata": {},
   "outputs": [
    {
     "ename": "NameError",
     "evalue": "name 'rfecv' is not defined",
     "output_type": "error",
     "traceback": [
      "\u001b[1;31m---------------------------------------------------------------------------\u001b[0m",
      "\u001b[1;31mNameError\u001b[0m                                 Traceback (most recent call last)",
      "\u001b[1;32m<ipython-input-99-6824e84d939c>\u001b[0m in \u001b[0;36m<module>\u001b[1;34m\u001b[0m\n\u001b[1;32m----> 1\u001b[1;33m \u001b[0mX_train_trn\u001b[0m \u001b[1;33m=\u001b[0m \u001b[0mrfecv\u001b[0m\u001b[1;33m.\u001b[0m\u001b[0mtransform\u001b[0m\u001b[1;33m(\u001b[0m\u001b[0mX_train\u001b[0m\u001b[1;33m)\u001b[0m\u001b[1;33m\u001b[0m\u001b[1;33m\u001b[0m\u001b[0m\n\u001b[0m\u001b[0;32m      2\u001b[0m \u001b[0mX_test_trn\u001b[0m \u001b[1;33m=\u001b[0m \u001b[0mrfecv\u001b[0m\u001b[1;33m.\u001b[0m\u001b[0mtransform\u001b[0m\u001b[1;33m(\u001b[0m\u001b[0mX_test\u001b[0m\u001b[1;33m)\u001b[0m\u001b[1;33m\u001b[0m\u001b[1;33m\u001b[0m\u001b[0m\n\u001b[0;32m      3\u001b[0m \u001b[1;33m\u001b[0m\u001b[0m\n\u001b[0;32m      4\u001b[0m \u001b[0mprint\u001b[0m\u001b[1;33m(\u001b[0m\u001b[0mX_train\u001b[0m\u001b[1;33m.\u001b[0m\u001b[0mshape\u001b[0m\u001b[1;33m)\u001b[0m\u001b[1;33m\u001b[0m\u001b[1;33m\u001b[0m\u001b[0m\n\u001b[0;32m      5\u001b[0m \u001b[1;33m\u001b[0m\u001b[0m\n",
      "\u001b[1;31mNameError\u001b[0m: name 'rfecv' is not defined"
     ]
    }
   ],
   "source": [
    "# X_train_trn = rfecv.transform(X_train)\n",
    "# X_test_trn = rfecv.transform(X_test)\n",
    "\n",
    "# print(X_train.shape)\n",
    "\n",
    "# dtrg = DecisionTreeRegressor(max_depth=7)\n",
    "\n",
    "# dtrg.fit(X_train_trn, y_train)\n",
    "\n",
    "# y_test_predict = dtrg.predict(X_test_trn)\n",
    "\n",
    "# dtrg_fs_metrics = get_regression_metrics('Decision Tree: Selected Features', y_test, y_test_predict)\n",
    "\n",
    "# #combine decision tree results: All features and selected features\n",
    "# dtr_metrics = pd.concat([dtrg_fs_metrics,dtrg_metrics], axis=1)\n",
    "\n",
    "# dtr_metrics"
   ]
  },
  {
   "cell_type": "markdown",
   "id": "5a7780cd",
   "metadata": {},
   "source": [
    "### Task 2.6.Random Forest"
   ]
  },
  {
   "cell_type": "code",
   "execution_count": 100,
   "id": "c58f1f2d",
   "metadata": {},
   "outputs": [
    {
     "name": "stdout",
     "output_type": "stream",
     "text": [
      "R^2 training: 0.594, R^2 test: 0.525\n"
     ]
    },
    {
     "data": {
      "text/html": [
       "<div>\n",
       "<style scoped>\n",
       "    .dataframe tbody tr th:only-of-type {\n",
       "        vertical-align: middle;\n",
       "    }\n",
       "\n",
       "    .dataframe tbody tr th {\n",
       "        vertical-align: top;\n",
       "    }\n",
       "\n",
       "    .dataframe thead th {\n",
       "        text-align: right;\n",
       "    }\n",
       "</style>\n",
       "<table border=\"1\" class=\"dataframe\">\n",
       "  <thead>\n",
       "    <tr style=\"text-align: right;\">\n",
       "      <th></th>\n",
       "      <th>Random Forest Regression</th>\n",
       "    </tr>\n",
       "  </thead>\n",
       "  <tbody>\n",
       "    <tr>\n",
       "      <th>Root Mean Squared Error</th>\n",
       "      <td>28.634253</td>\n",
       "    </tr>\n",
       "    <tr>\n",
       "      <th>Mean Absolute Error</th>\n",
       "      <td>23.167130</td>\n",
       "    </tr>\n",
       "    <tr>\n",
       "      <th>R^2</th>\n",
       "      <td>0.525198</td>\n",
       "    </tr>\n",
       "    <tr>\n",
       "      <th>Explained Variance</th>\n",
       "      <td>0.767320</td>\n",
       "    </tr>\n",
       "  </tbody>\n",
       "</table>\n",
       "</div>"
      ],
      "text/plain": [
       "                         Random Forest Regression\n",
       "Root Mean Squared Error                 28.634253\n",
       "Mean Absolute Error                     23.167130\n",
       "R^2                                      0.525198\n",
       "Explained Variance                       0.767320"
      ]
     },
     "execution_count": 100,
     "metadata": {},
     "output_type": "execute_result"
    }
   ],
   "source": [
    "#rf = RandomForestRegressor(n_estimators=100, max_features=2, max_depth=4, n_jobs=-1, random_state=1) # selected features\n",
    "rf = RandomForestRegressor(n_estimators=100, max_features=3, max_depth=4, n_jobs=-1, random_state=1) # original features\n",
    "#rf = RandomForestRegressor(n_estimators=100, max_features=3, max_depth=7, n_jobs=-1, random_state=1) # orig + extrcted \n",
    "\n",
    "rf.fit(X_train, y_train)\n",
    "\n",
    "y_test_predict = rf.predict(X_test)\n",
    "y_train_predict = rf.predict(X_train)\n",
    "\n",
    "print('R^2 training: %.3f, R^2 test: %.3f' % (\n",
    "      (metrics.r2_score(y_train, y_train_predict)), \n",
    "      (metrics.r2_score(y_test, y_test_predict))))\n",
    "\n",
    "rf_metrics = get_regression_metrics('Random Forest Regression', y_test, y_test_predict)\n",
    "rf_metrics"
   ]
  },
  {
   "cell_type": "code",
   "execution_count": 101,
   "id": "adf1183c",
   "metadata": {},
   "outputs": [
    {
     "data": {
      "image/png": "[encoded data removed]",
      "text/plain": [
       "<Figure size 576x360 with 1 Axes>"
      ]
     },
     "metadata": {
      "needs_background": "light"
     },
     "output_type": "display_data"
    }
   ],
   "source": [
    "plot_features_weights('Random Forest Regressor', rf.feature_importances_, X_train.columns, 't' )"
   ]
  },
  {
   "cell_type": "code",
   "execution_count": 102,
   "id": "21e7cdb1",
   "metadata": {},
   "outputs": [
    {
     "data": {
      "image/png": "[encoded data removed]",
      "text/plain": [
       "<Figure size 432x288 with 1 Axes>"
      ]
     },
     "metadata": {
      "needs_background": "light"
     },
     "output_type": "display_data"
    }
   ],
   "source": [
    "plot_residual('Random Forest Regression', y_train_predict, y_train, y_test_predict, y_test)"
   ]
  },
  {
   "cell_type": "markdown",
   "id": "9bef6e77",
   "metadata": {},
   "source": [
    "phần dư hồi quy không được trải rộng ngẫu nhiên trên giá trị trung bình của phần dư. Điều này có thể được cải thiện bằng cách sửa dữ liệu (ví dụ: ngoại lệ, lấy mẫu lại) hoặc điều chỉnh thông số mô hình."
   ]
  },
  {
   "cell_type": "markdown",
   "id": "14fe5edb",
   "metadata": {},
   "source": [
    "### Task 2.7.So sánh mô hình hồi quy"
   ]
  },
  {
   "cell_type": "code",
   "execution_count": 103,
   "id": "29b66e67",
   "metadata": {},
   "outputs": [
    {
     "data": {
      "text/html": [
       "<div>\n",
       "<style scoped>\n",
       "    .dataframe tbody tr th:only-of-type {\n",
       "        vertical-align: middle;\n",
       "    }\n",
       "\n",
       "    .dataframe tbody tr th {\n",
       "        vertical-align: top;\n",
       "    }\n",
       "\n",
       "    .dataframe thead th {\n",
       "        text-align: right;\n",
       "    }\n",
       "</style>\n",
       "<table border=\"1\" class=\"dataframe\">\n",
       "  <thead>\n",
       "    <tr style=\"text-align: right;\">\n",
       "      <th></th>\n",
       "      <th>Linear Regression</th>\n",
       "      <th>LASSO</th>\n",
       "      <th>Ridge Regression</th>\n",
       "      <th>Decision Tree Regression</th>\n",
       "      <th>Polynomial Regression</th>\n",
       "      <th>Random Forest Regression</th>\n",
       "    </tr>\n",
       "  </thead>\n",
       "  <tbody>\n",
       "    <tr>\n",
       "      <th>Root Mean Squared Error</th>\n",
       "      <td>32.041095</td>\n",
       "      <td>31.966099</td>\n",
       "      <td>31.965740</td>\n",
       "      <td>32.095349</td>\n",
       "      <td>32.634337</td>\n",
       "      <td>28.634253</td>\n",
       "    </tr>\n",
       "    <tr>\n",
       "      <th>Mean Absolute Error</th>\n",
       "      <td>25.591780</td>\n",
       "      <td>25.551808</td>\n",
       "      <td>25.544620</td>\n",
       "      <td>24.319068</td>\n",
       "      <td>24.968125</td>\n",
       "      <td>23.167130</td>\n",
       "    </tr>\n",
       "    <tr>\n",
       "      <th>R^2</th>\n",
       "      <td>0.405495</td>\n",
       "      <td>0.408275</td>\n",
       "      <td>0.408289</td>\n",
       "      <td>0.403480</td>\n",
       "      <td>0.383277</td>\n",
       "      <td>0.525198</td>\n",
       "    </tr>\n",
       "    <tr>\n",
       "      <th>Explained Variance</th>\n",
       "      <td>0.665297</td>\n",
       "      <td>0.668206</td>\n",
       "      <td>0.667607</td>\n",
       "      <td>0.632767</td>\n",
       "      <td>0.642046</td>\n",
       "      <td>0.767320</td>\n",
       "    </tr>\n",
       "  </tbody>\n",
       "</table>\n",
       "</div>"
      ],
      "text/plain": [
       "                         Linear Regression      LASSO  Ridge Regression  \\\n",
       "Root Mean Squared Error          32.041095  31.966099         31.965740   \n",
       "Mean Absolute Error              25.591780  25.551808         25.544620   \n",
       "R^2                               0.405495   0.408275          0.408289   \n",
       "Explained Variance                0.665297   0.668206          0.667607   \n",
       "\n",
       "                         Decision Tree Regression  Polynomial Regression  \\\n",
       "Root Mean Squared Error                 32.095349              32.634337   \n",
       "Mean Absolute Error                     24.319068              24.968125   \n",
       "R^2                                      0.403480               0.383277   \n",
       "Explained Variance                       0.632767               0.642046   \n",
       "\n",
       "                         Random Forest Regression  \n",
       "Root Mean Squared Error                 28.634253  \n",
       "Mean Absolute Error                     23.167130  \n",
       "R^2                                      0.525198  \n",
       "Explained Variance                       0.767320  "
      ]
     },
     "execution_count": 103,
     "metadata": {},
     "output_type": "execute_result"
    }
   ],
   "source": [
    "reg_metrics_bfe = pd.concat([linreg_metrics, lasso_metrics, rdg_metrics, dtrg_metrics, polyreg_metrics, rf_metrics], axis=1)\n",
    "reg_metrics_bfe"
   ]
  },
  {
   "cell_type": "code",
   "execution_count": null,
   "id": "25c07e74",
   "metadata": {},
   "outputs": [],
   "source": []
  }
 ],
 "metadata": {
  "kernelspec": {
   "display_name": "Python 3",
   "language": "python",
   "name": "python3"
  },
  "language_info": {
   "codemirror_mode": {
    "name": "ipython",
    "version": 3
   },
   "file_extension": ".py",
   "mimetype": "text/x-python",
   "name": "python",
   "nbconvert_exporter": "python",
   "pygments_lexer": "ipython3",
   "version": "3.8.8"
  },
  "toc": {
   "base_numbering": 1,
   "nav_menu": {},
   "number_sections": false,
   "sideBar": true,
   "skip_h1_title": false,
   "title_cell": "Table of Contents",
   "title_sidebar": "Contents",
   "toc_cell": false,
   "toc_position": {},
   "toc_section_display": true,
   "toc_window_display": true
  },
  "varInspector": {
   "cols": {
    "lenName": 16,
    "lenType": 16,
    "lenVar": 40
   },
   "kernels_config": {
    "python": {
     "delete_cmd_postfix": "",
     "delete_cmd_prefix": "del ",
     "library": "var_list.py",
     "varRefreshCmd": "print(var_dic_list())"
    },
    "r": {
     "delete_cmd_postfix": ") ",
     "delete_cmd_prefix": "rm(",
     "library": "var_list.r",
     "varRefreshCmd": "cat(var_dic_list()) "
    }
   },
   "types_to_exclude": [
    "module",
    "function",
    "builtin_function_or_method",
    "instance",
    "_Feature"
   ],
   "window_display": false
  }
 },
 "nbformat": 4,
 "nbformat_minor": 5
}
