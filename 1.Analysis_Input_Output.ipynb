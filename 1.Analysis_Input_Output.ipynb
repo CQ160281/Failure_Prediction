{
 "cells": [
  {
   "cell_type": "markdown",
   "id": "729e1b47",
   "metadata": {},
   "source": [
    "## Data Description\n",
    "[Mô tả chi tiết](https://docs.google.com/document/d/11S0v9u_XCf-xoS--OKHtF3vom9EuO5LiUBLf1RQy7fw/edit#)"
   ]
  },
  {
   "cell_type": "markdown",
   "id": "0d0766f0",
   "metadata": {},
   "source": [
    "## I. Ý nghĩa bài toán của bài toán"
   ]
  },
  {
   "cell_type": "markdown",
   "id": "d67d0685",
   "metadata": {},
   "source": [
    "### 1. Ý nghĩa"
   ]
  },
  {
   "cell_type": "markdown",
   "id": "8ebbb0cd",
   "metadata": {},
   "source": [
    "* Failure Prediction: Dự đoán thất bại\n",
    "* Predictive Maintenance: Dự đoán bảo trị"
   ]
  },
  {
   "cell_type": "markdown",
   "id": "cadaf1d7",
   "metadata": {},
   "source": [
    "### 2. Khái niệm"
   ]
  },
  {
   "cell_type": "markdown",
   "id": "70e91c86",
   "metadata": {},
   "source": [
    "Phân tích dự báo là việc sử dụng dữ liệu kết hợp với các thuật toán thống kê, kỹ thuật trong “Machine learning” để xác định những khả năng, kết quả có thể xảy ra của đối tượng nghiên cứu trong tương lai dựa trên dữ liệu lịch sử. \n",
    "Mục tiêu của phân tích dự báo là vượt lên trên các hiểu biết về những gì đã xảy ra ở quá khứ để đánh giá tốt nhất những gì sẽ xảy ra trong tương lai.\n"
   ]
  },
  {
   "cell_type": "markdown",
   "id": "da541914",
   "metadata": {},
   "source": [
    "### 3. Vấn đề cần giải quyết"
   ]
  },
  {
   "cell_type": "markdown",
   "id": "f4fda2df",
   "metadata": {},
   "source": [
    "Failure prediction là một chủ đề chính trong bảo trì dự đoán trong nhiều ngành công nghiệp. Các hãng hàng không đặc biệt quan tâm đến việc dự đoán trước các hỏng hóc của thiết bị để có thể tăng cường hoạt động và giảm tình trạng chậm trễ chuyến bay."
   ]
  },
  {
   "cell_type": "markdown",
   "id": "7db13b97",
   "metadata": {},
   "source": [
    "Việc quan sát tình trạng và sức khỏe của động cơ thông qua các cảm biến và dữ liệu đo từ xa được giả định là để tạo điều kiện thuận lợi cho loại bảo trì này bằng cách dự đoán Time-To-Failure (TTF) - Thời gian không hỏng hóc hoặc Remaining Useful Life (RUL) - Tuổi thọ hữu ít còn lại của thiết bị đang sử dụng.\n",
    "Sử dụng các phép đo cảm biến của động cơ máy bay - Project cố gắng đưa ra các dự đoán sau:\n",
    "* TTF của động cơ\n",
    "* Động cơ nào sẽ bị lỗi trong giai đoạn hiện tại hoặc cửa sổ chu kỳ\n",
    "* Kế hoạch bảo trì dựa trên dự đoán về sự cố động cơ theo chu kỳ"
   ]
  },
  {
   "cell_type": "markdown",
   "id": "73476bdd",
   "metadata": {},
   "source": [
    "### 4. Mục tiêu"
   ]
  },
  {
   "cell_type": "markdown",
   "id": "069a5025",
   "metadata": {},
   "source": [
    "Mục tiêu của project là tăng cường hoạt động bảo trì và lập kế hoạch bảo trì phòng ngừa dựa trên thời gian bằng cách áp dụng các kỹ thuật Data Science và thuật toán Machine Learning để dự đoán các yêu cầu bảo trì chính xác hơn."
   ]
  },
  {
   "cell_type": "markdown",
   "id": "074e2ff5",
   "metadata": {},
   "source": [
    "## II. Innput/Output của bài toán"
   ]
  },
  {
   "cell_type": "markdown",
   "id": "d70df06e",
   "metadata": {},
   "source": [
    "Input: Dữ liệu động cơ 21 cảm biến\n",
    "\n",
    "Outpput: Đưa ra dự đoán, cảnh báo hoạt động của động cơ trước khi hỏng."
   ]
  },
  {
   "cell_type": "markdown",
   "id": "217313b3",
   "metadata": {},
   "source": [
    "### 1. Regression Modeling algorithms:"
   ]
  },
  {
   "cell_type": "markdown",
   "id": "fe60a9ab",
   "metadata": {},
   "source": [
    "* Input: Sử dụng thuật toán mô hình hồi quy dự đoán chu kỳ hoạt động của động cơ\n",
    "* Output: Dự đoán số chu kỳ còn lại trước khi động cơ hỏng."
   ]
  },
  {
   "cell_type": "markdown",
   "id": "0922f1b6",
   "metadata": {},
   "source": [
    "### 2. Binary Classification algorithms"
   ]
  },
  {
   "cell_type": "markdown",
   "id": "c1bc3dd1",
   "metadata": {},
   "source": [
    "* Input: Sử dụng thuật toán phân loại nhị phân dự đoán động cơ có bị lỗi trong cửa sổ chu kỳ.\n",
    "* Output: Cho ra kết quả dự đoán động cơ có bị lỗi trong cửa sổ chu kỳ."
   ]
  },
  {
   "cell_type": "markdown",
   "id": "d21c895f",
   "metadata": {},
   "source": [
    "### 3. Multiclass Classification algorithms"
   ]
  },
  {
   "cell_type": "markdown",
   "id": "c7cc90e4",
   "metadata": {},
   "source": [
    "* Input: Sử dụng thuật toán để dự đoán trong khoảng thời gian hoặc cửa sổ chu kỳ nào một động cơ sẽ bị lỗi.\n",
    "* Output: Cho ra kết quả dự đoán xác định khoảng thời gian cửa sổ chu kỳ nào một động cơ sẽ bị lỗi."
   ]
  },
  {
   "cell_type": "markdown",
   "id": "e19d1b45",
   "metadata": {},
   "source": [
    "## III. Các khái niệm cơ bản "
   ]
  },
  {
   "cell_type": "markdown",
   "id": "2bb37969",
   "metadata": {},
   "source": [
    "Tập dữ liệu huấn luyện (training set): là tập dữ liệu mà bạn sẽ dùng để huấn luyện mô hình (chính là dữ liệu cho máy tính “học”). \n",
    "\n",
    "Tập dữ liệu kiểm tra (test set): là tập dữ liệu bạn dùng để đánh giá độ chính xác của mô hình sau khi được huấn luyện.\n",
    "\n",
    "Ground truth: Trong học máy, sự thật nền tảng có nghĩa kiểm tra kết quả của các thuật toán machine learning để biết độ chính xác so với thế giới thực. Về bản chất, đây là một kiểm tra thực tế cho tính chính xác của các thuật toán. Thuật ngữ này được mượn từ khí tượng học, trong đó “Sự thật nền tảng” dùng để chỉ thông tin thu được trên mặt đất nơi xảy ra sự kiện thời tiết, dữ liệu đó được so sánh với các mô hình dự báo để xác định độ chính xác của chúng.\n",
    "\n",
    "Điểm dữ liệu (data point): là một đơn vị thông tin độc lập trong tập dữ liệu của bạn. Chẳng hạn như bạn có tập dữ liệu gồm giá nhà, ngày xây, diện tích… thì một điểm dữ liệu sẽ bao gồm các thông tin đó. Và một tập hợp các điểm dữ liệu được gọi là tập dữ liệu.\n",
    "\n",
    "Nhãn (label – y): là kết quả thực tế mà chúng ta muốn mô hình dự đoán. Ví dụ như cam, táo trong ví dụ ở trên được gọi là nhãn. (chỉ có đối với học có giám sát)\n",
    "\n",
    "Đặc trưng (feature – X): một hoặc một nhóm thuộc tính tạo nên các đặc trưng duy nhất, có thể đo lường và có thể so sánh với nhau . Đặc trưng là thứ làm cho một lớp có thể phân biệt với các lớp khác."
   ]
  },
  {
   "cell_type": "markdown",
   "id": "5b296b7e",
   "metadata": {},
   "source": [
    "## IV. Dữ liệu bài toán cho."
   ]
  },
  {
   "cell_type": "markdown",
   "id": "cb8f3ec6",
   "metadata": {},
   "source": [
    "### 1. Data Source"
   ]
  },
  {
   "cell_type": "markdown",
   "id": "542610cf",
   "metadata": {},
   "source": [
    "___Training Data:___   Dữ liệu động cơ chạy đến lỗi.\n",
    "[download trianing data](https://drive.google.com/drive/u/1/folders/13I9zwIeHENIJSl6SUJChl3sPh1fTgg9A)  \n",
    "___Test Data:___ Dữ liệu vận hành động cơ mà không có sự kiện hỏng hóc được ghi lại.\n",
    "[download test data](https://drive.google.com/drive/u/1/folders/13I9zwIeHENIJSl6SUJChl3sPh1fTgg9A)  \n",
    "___Ground Truth Data:___ Dữ liệu thật: Dữ liệu sự thật cơ bản: Các chu kỳ thực sự còn lại cho mỗi động cơ trong test data.\n",
    "[download truth data](https://drive.google.com/drive/u/1/folders/13I9zwIeHENIJSl6SUJChl3sPh1fTgg9A)  "
   ]
  },
  {
   "cell_type": "markdown",
   "id": "4ab423af",
   "metadata": {},
   "source": [
    "### 2. Data Columns"
   ]
  },
  {
   "cell_type": "markdown",
   "id": "3267db8b",
   "metadata": {},
   "source": [
    "- col_names = ['id', 'cycle', 'setting1', 'setting2', 'setting3', 's1', 's2', 's3', 's4', 's5', 's6', 's7', 's8', 's9', 's10', 's11', 's12', 's13', 's14', 's15', 's16', 's17', 's18', 's19', 's20', 's21']\n",
    "+ id: là ID động cơ, nằm trong khoảng từ 1 đến 100\n",
    "+ cycle: cho mỗi chuỗi động cơ, bắt đầu từ 1 đến số chu kỳ đã xảy ra lỗi (test data)\n",
    "+ setting1 to setting3: cài đặt hoạt động động cơ\n",
    "+ s1 to s21: các phép đo cảm biến\n"
   ]
  },
  {
   "cell_type": "markdown",
   "id": "f551d534",
   "metadata": {},
   "source": [
    "## V. Workflow"
   ]
  },
  {
   "cell_type": "markdown",
   "id": "331e255c",
   "metadata": {},
   "source": [
    "1. Thu thập dữ liệu – Gathering data/Data collection.\n",
    "2. Tiền xử lý dữ liệu – Data preprocessing:\n",
    "    1. Trích xuất dữ liệu – data extraction\n",
    "    2. Làm sạch dữ liệu – data cleaning\n",
    "    3. Chuyển đổi dữ liệu – Data transformation\n",
    "    4. Chuẩn hóa dữ liệu – Data normalization\n",
    "    5. Trích xuất đặc trưng – Feature extraction\n",
    "    \n",
    "3. Phân tích dữ liệu – Data analysis\n",
    "4. Xây dựng mô hình máy học – Model building\n",
    "5. Huấn luyện mô hình – Model training\n",
    "6. Đánh giá mô hình – Model evaluation"
   ]
  }
 ],
 "metadata": {
  "kernelspec": {
   "display_name": "Python 3",
   "language": "python",
   "name": "python3"
  },
  "language_info": {
   "codemirror_mode": {
    "name": "ipython",
    "version": 3
   },
   "file_extension": ".py",
   "mimetype": "text/x-python",
   "name": "python",
   "nbconvert_exporter": "python",
   "pygments_lexer": "ipython3",
   "version": "3.8.8"
  },
  "toc": {
   "base_numbering": 1,
   "nav_menu": {},
   "number_sections": false,
   "sideBar": true,
   "skip_h1_title": false,
   "title_cell": "Table of Contents",
   "title_sidebar": "Contents",
   "toc_cell": false,
   "toc_position": {},
   "toc_section_display": true,
   "toc_window_display": true
  },
  "varInspector": {
   "cols": {
    "lenName": 16,
    "lenType": 16,
    "lenVar": 40
   },
   "kernels_config": {
    "python": {
     "delete_cmd_postfix": "",
     "delete_cmd_prefix": "del ",
     "library": "var_list.py",
     "varRefreshCmd": "print(var_dic_list())"
    },
    "r": {
     "delete_cmd_postfix": ") ",
     "delete_cmd_prefix": "rm(",
     "library": "var_list.r",
     "varRefreshCmd": "cat(var_dic_list()) "
    }
   },
   "types_to_exclude": [
    "module",
    "function",
    "builtin_function_or_method",
    "instance",
    "_Feature"
   ],
   "window_display": false
  }
 },
 "nbformat": 4,
 "nbformat_minor": 5
}
